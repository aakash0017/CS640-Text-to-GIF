{
 "cells": [
  {
   "cell_type": "code",
   "execution_count": 2,
   "metadata": {
    "id": "sm1LW99elk2p"
   },
   "outputs": [],
   "source": [
    "from PIL import Image, ImageSequence\n",
    "import numpy as np\n",
    "import matplotlib.pyplot as plt\n",
    "import os\n",
    "from scipy import spatial\n",
    "import pandas as pd"
   ]
  },
  {
   "cell_type": "code",
   "execution_count": 3,
   "metadata": {
    "colab": {
     "base_uri": "https://localhost:8080/"
    },
    "id": "SBe4wmClEW1u",
    "outputId": "3c599bfd-736c-42a0-fa62-8d82e1a2be16"
   },
   "outputs": [
    {
     "name": "stdout",
     "output_type": "stream",
     "text": [
      "/Users/aakashbhatnagar/Documents/masters/CS 640 AI/Project/AI_Project\n"
     ]
    }
   ],
   "source": [
    "%cd AI_Project"
   ]
  },
  {
   "cell_type": "code",
   "execution_count": 4,
   "metadata": {},
   "outputs": [
    {
     "name": "stdout",
     "output_type": "stream",
     "text": [
      "/Users/aakashbhatnagar/Documents/masters/CS 640 AI/Project/AI_Project\r\n"
     ]
    }
   ],
   "source": [
    "!pwd"
   ]
  },
  {
   "cell_type": "code",
   "execution_count": 8,
   "metadata": {
    "id": "Vtrof-mq1T0I"
   },
   "outputs": [],
   "source": [
    "#Creating list of all the frames\n",
    "path = '/Users/aakashbhatnagar/Documents/masters/CS 640 AI/Project/AI_Project/'\n",
    "path_to_save = ''\n",
    "frame_list = []\n",
    "for filename in os.listdir(path):\n",
    "  im = Image.open(path+filename)\n",
    "  index = 0\n",
    "  temp = []\n",
    "  for frame in ImageSequence.Iterator(im):\n",
    "    f = frame.copy()\n",
    "    temp.append(f)\n",
    "  frame_list.append(temp)"
   ]
  },
  {
   "cell_type": "code",
   "execution_count": 12,
   "metadata": {
    "id": "KcGVe2qXxdWY"
   },
   "outputs": [
    {
     "name": "stdout",
     "output_type": "stream",
     "text": [
      "(294, 535)\n",
      "(294, 535, 4)\n"
     ]
    },
    {
     "ename": "ValueError",
     "evalue": "operands could not be broadcast together with shapes (157290,) (629160,) ",
     "output_type": "error",
     "traceback": [
      "\u001b[0;31m---------------------------------------------------------------------------\u001b[0m",
      "\u001b[0;31mValueError\u001b[0m                                Traceback (most recent call last)",
      "Cell \u001b[0;32mIn [12], line 12\u001b[0m\n\u001b[1;32m     10\u001b[0m \u001b[38;5;28mprint\u001b[39m(arr1\u001b[38;5;241m.\u001b[39mshape)\n\u001b[1;32m     11\u001b[0m \u001b[38;5;28mprint\u001b[39m(arr2\u001b[38;5;241m.\u001b[39mshape)\n\u001b[0;32m---> 12\u001b[0m cosine \u001b[38;5;241m=\u001b[39m \u001b[38;5;241m1\u001b[39m \u001b[38;5;241m-\u001b[39m \u001b[43mspatial\u001b[49m\u001b[38;5;241;43m.\u001b[39;49m\u001b[43mdistance\u001b[49m\u001b[38;5;241;43m.\u001b[39;49m\u001b[43mcosine\u001b[49m\u001b[43m(\u001b[49m\u001b[43marr1\u001b[49m\u001b[38;5;241;43m.\u001b[39;49m\u001b[43mravel\u001b[49m\u001b[43m(\u001b[49m\u001b[43m)\u001b[49m\u001b[43m,\u001b[49m\u001b[43m \u001b[49m\u001b[43marr2\u001b[49m\u001b[38;5;241;43m.\u001b[39;49m\u001b[43mravel\u001b[49m\u001b[43m(\u001b[49m\u001b[43m)\u001b[49m\u001b[43m)\u001b[49m\n\u001b[1;32m     13\u001b[0m \u001b[38;5;28;01mif\u001b[39;00m cosine \u001b[38;5;241m>\u001b[39m \u001b[38;5;241m0.75\u001b[39m:\n\u001b[1;32m     14\u001b[0m   \u001b[38;5;28;01mdel\u001b[39;00m copy[j\u001b[38;5;241m+\u001b[39m\u001b[38;5;241m1\u001b[39m]\n",
      "File \u001b[0;32m/opt/homebrew/lib/python3.10/site-packages/scipy/spatial/distance.py:668\u001b[0m, in \u001b[0;36mcosine\u001b[0;34m(u, v, w)\u001b[0m\n\u001b[1;32m    626\u001b[0m \u001b[38;5;124;03m\"\"\"\u001b[39;00m\n\u001b[1;32m    627\u001b[0m \u001b[38;5;124;03mCompute the Cosine distance between 1-D arrays.\u001b[39;00m\n\u001b[1;32m    628\u001b[0m \n\u001b[0;32m   (...)\u001b[0m\n\u001b[1;32m    663\u001b[0m \n\u001b[1;32m    664\u001b[0m \u001b[38;5;124;03m\"\"\"\u001b[39;00m\n\u001b[1;32m    665\u001b[0m \u001b[38;5;66;03m# cosine distance is also referred to as 'uncentered correlation',\u001b[39;00m\n\u001b[1;32m    666\u001b[0m \u001b[38;5;66;03m#   or 'reflective correlation'\u001b[39;00m\n\u001b[1;32m    667\u001b[0m \u001b[38;5;66;03m# clamp the result to 0-2\u001b[39;00m\n\u001b[0;32m--> 668\u001b[0m \u001b[38;5;28;01mreturn\u001b[39;00m \u001b[38;5;28mmax\u001b[39m(\u001b[38;5;241m0\u001b[39m, \u001b[38;5;28mmin\u001b[39m(\u001b[43mcorrelation\u001b[49m\u001b[43m(\u001b[49m\u001b[43mu\u001b[49m\u001b[43m,\u001b[49m\u001b[43m \u001b[49m\u001b[43mv\u001b[49m\u001b[43m,\u001b[49m\u001b[43m \u001b[49m\u001b[43mw\u001b[49m\u001b[38;5;241;43m=\u001b[39;49m\u001b[43mw\u001b[49m\u001b[43m,\u001b[49m\u001b[43m \u001b[49m\u001b[43mcentered\u001b[49m\u001b[38;5;241;43m=\u001b[39;49m\u001b[38;5;28;43;01mFalse\u001b[39;49;00m\u001b[43m)\u001b[49m, \u001b[38;5;241m2.0\u001b[39m))\n",
      "File \u001b[0;32m/opt/homebrew/lib/python3.10/site-packages/scipy/spatial/distance.py:617\u001b[0m, in \u001b[0;36mcorrelation\u001b[0;34m(u, v, w, centered)\u001b[0m\n\u001b[1;32m    615\u001b[0m     u \u001b[38;5;241m=\u001b[39m u \u001b[38;5;241m-\u001b[39m umu\n\u001b[1;32m    616\u001b[0m     v \u001b[38;5;241m=\u001b[39m v \u001b[38;5;241m-\u001b[39m vmu\n\u001b[0;32m--> 617\u001b[0m uv \u001b[38;5;241m=\u001b[39m np\u001b[38;5;241m.\u001b[39maverage(\u001b[43mu\u001b[49m\u001b[43m \u001b[49m\u001b[38;5;241;43m*\u001b[39;49m\u001b[43m \u001b[49m\u001b[43mv\u001b[49m, weights\u001b[38;5;241m=\u001b[39mw)\n\u001b[1;32m    618\u001b[0m uu \u001b[38;5;241m=\u001b[39m np\u001b[38;5;241m.\u001b[39maverage(np\u001b[38;5;241m.\u001b[39msquare(u), weights\u001b[38;5;241m=\u001b[39mw)\n\u001b[1;32m    619\u001b[0m vv \u001b[38;5;241m=\u001b[39m np\u001b[38;5;241m.\u001b[39maverage(np\u001b[38;5;241m.\u001b[39msquare(v), weights\u001b[38;5;241m=\u001b[39mw)\n",
      "\u001b[0;31mValueError\u001b[0m: operands could not be broadcast together with shapes (157290,) (629160,) "
     ]
    }
   ],
   "source": [
    "#Filterring frames with respect to cosine similarity\n",
    "pframes = []\n",
    "y = []\n",
    "for i in frame_list:\n",
    "  j = 0\n",
    "  copy = i.copy()\n",
    "  while j < len(copy)-1:\n",
    "    arr1 = np.array(copy[j])\n",
    "    arr2 = np.array(copy[j+1])\n",
    "    print(arr1.shape)\n",
    "    print(arr2.shape)\n",
    "    cosine = 1 - spatial.distance.cosine(arr1.ravel(), arr2.ravel())\n",
    "    if cosine > 0.75:\n",
    "      del copy[j+1]\n",
    "    else:\n",
    "      j+=1\n",
    "  pframes.append(copy)\n",
    "  "
   ]
  },
  {
   "cell_type": "code",
   "execution_count": 15,
   "metadata": {},
   "outputs": [
    {
     "data": {
      "text/plain": [
       "[<PIL.Image.Image image mode=P size=535x294>,\n",
       " <PIL.Image.Image image mode=RGBA size=535x294>,\n",
       " <PIL.Image.Image image mode=RGBA size=535x294>,\n",
       " <PIL.Image.Image image mode=RGBA size=535x294>,\n",
       " <PIL.Image.Image image mode=RGBA size=535x294>,\n",
       " <PIL.Image.Image image mode=RGBA size=535x294>,\n",
       " <PIL.Image.Image image mode=RGBA size=535x294>,\n",
       " <PIL.Image.Image image mode=RGBA size=535x294>,\n",
       " <PIL.Image.Image image mode=RGBA size=535x294>,\n",
       " <PIL.Image.Image image mode=RGBA size=535x294>,\n",
       " <PIL.Image.Image image mode=RGBA size=535x294>,\n",
       " <PIL.Image.Image image mode=RGBA size=535x294>,\n",
       " <PIL.Image.Image image mode=RGBA size=535x294>,\n",
       " <PIL.Image.Image image mode=RGBA size=535x294>,\n",
       " <PIL.Image.Image image mode=RGBA size=535x294>,\n",
       " <PIL.Image.Image image mode=RGBA size=535x294>,\n",
       " <PIL.Image.Image image mode=RGBA size=535x294>,\n",
       " <PIL.Image.Image image mode=RGBA size=535x294>,\n",
       " <PIL.Image.Image image mode=RGBA size=535x294>,\n",
       " <PIL.Image.Image image mode=RGBA size=535x294>,\n",
       " <PIL.Image.Image image mode=RGBA size=535x294>,\n",
       " <PIL.Image.Image image mode=RGBA size=535x294>,\n",
       " <PIL.Image.Image image mode=RGBA size=535x294>,\n",
       " <PIL.Image.Image image mode=RGBA size=535x294>,\n",
       " <PIL.Image.Image image mode=RGBA size=535x294>,\n",
       " <PIL.Image.Image image mode=RGBA size=535x294>,\n",
       " <PIL.Image.Image image mode=RGBA size=535x294>,\n",
       " <PIL.Image.Image image mode=RGBA size=535x294>,\n",
       " <PIL.Image.Image image mode=RGBA size=535x294>,\n",
       " <PIL.Image.Image image mode=RGBA size=535x294>,\n",
       " <PIL.Image.Image image mode=RGBA size=535x294>,\n",
       " <PIL.Image.Image image mode=RGBA size=535x294>,\n",
       " <PIL.Image.Image image mode=RGBA size=535x294>,\n",
       " <PIL.Image.Image image mode=RGBA size=535x294>,\n",
       " <PIL.Image.Image image mode=RGBA size=535x294>,\n",
       " <PIL.Image.Image image mode=RGBA size=535x294>,\n",
       " <PIL.Image.Image image mode=RGBA size=535x294>,\n",
       " <PIL.Image.Image image mode=RGBA size=535x294>,\n",
       " <PIL.Image.Image image mode=RGBA size=535x294>,\n",
       " <PIL.Image.Image image mode=RGBA size=535x294>,\n",
       " <PIL.Image.Image image mode=RGBA size=535x294>,\n",
       " <PIL.Image.Image image mode=RGBA size=535x294>,\n",
       " <PIL.Image.Image image mode=RGBA size=535x294>,\n",
       " <PIL.Image.Image image mode=RGBA size=535x294>,\n",
       " <PIL.Image.Image image mode=RGBA size=535x294>,\n",
       " <PIL.Image.Image image mode=RGBA size=535x294>,\n",
       " <PIL.Image.Image image mode=RGBA size=535x294>,\n",
       " <PIL.Image.Image image mode=RGBA size=535x294>,\n",
       " <PIL.Image.Image image mode=RGBA size=535x294>]"
      ]
     },
     "execution_count": 15,
     "metadata": {},
     "output_type": "execute_result"
    }
   ],
   "source": [
    "frame_list[0]"
   ]
  },
  {
   "cell_type": "code",
   "execution_count": null,
   "metadata": {
    "colab": {
     "base_uri": "https://localhost:8080/"
    },
    "id": "gEboGIuz7G-j",
    "outputId": "0df670e8-2a6a-4ad8-cd20-e4b7ea1599d6"
   },
   "outputs": [
    {
     "data": {
      "text/plain": [
       "331"
      ]
     },
     "execution_count": 7,
     "metadata": {},
     "output_type": "execute_result"
    }
   ],
   "source": [
    "len(pframes)"
   ]
  },
  {
   "cell_type": "code",
   "execution_count": null,
   "metadata": {
    "id": "ieaFoB2as0u1"
   },
   "outputs": [],
   "source": [
    "y = []\n",
    "path = '/Users/aakashbhatnagar/Documents/masters/CS 640 AI/Project/AI_Project/'\n",
    "files = os.listdir(path)\n",
    "\n",
    "for i in range(len(files)):\n",
    "  index = 0\n",
    "  for j in pframes[i]:\n",
    "    y.append(files[i] + f'{index}.png')\n",
    "    index+=1\n",
    "\n",
    "pd.DataFrame(y, columns = ['label']).to_csv('/content/drive/MyDrive/CS640 Project/Y.csv', index = False)"
   ]
  },
  {
   "cell_type": "code",
   "execution_count": null,
   "metadata": {
    "colab": {
     "base_uri": "https://localhost:8080/",
     "height": 35
    },
    "id": "pWKVwTmS6N05",
    "outputId": "4d63a55d-dd71-404a-9394-c566f27298e7"
   },
   "outputs": [
    {
     "data": {
      "application/vnd.google.colaboratory.intrinsic+json": {
       "type": "string"
      },
      "text/plain": [
       "'Chineese now a days33.png'"
      ]
     },
     "execution_count": 19,
     "metadata": {},
     "output_type": "execute_result"
    }
   ],
   "source": [
    "y[947]"
   ]
  },
  {
   "cell_type": "code",
   "execution_count": null,
   "metadata": {
    "id": "I8Lo8G0gH8Ca"
   },
   "outputs": [],
   "source": [
    "for idx, value in enumerate(y):\n",
    "  if len(value) < 2:\n",
    "    print(idx)"
   ]
  },
  {
   "cell_type": "code",
   "execution_count": null,
   "metadata": {
    "id": "3q3Syiq1HS40"
   },
   "outputs": [],
   "source": [
    "# y = pd.read_csv('/content/drive/MyDrive/CS640 Project/Y.csv')"
   ]
  },
  {
   "cell_type": "code",
   "execution_count": null,
   "metadata": {
    "colab": {
     "base_uri": "https://localhost:8080/"
    },
    "id": "h-omwABBubkK",
    "outputId": "cd2b93ff-aa36-41b6-dbe7-63565db48172"
   },
   "outputs": [
    {
     "name": "stdout",
     "output_type": "stream",
     "text": [
      "/content/drive/MyDrive/CS640 Project/Processed Frames\n"
     ]
    }
   ],
   "source": [
    "%cd /content/drive/MyDrive/CS640 Project/Processed Frames\n",
    "X = []\n",
    "index = 0\n",
    "for i in pframes:\n",
    "  for j in i:\n",
    "    name = y[index]\n",
    "    temp = j.resize((256,256))\n",
    "    # temp.save(name)\n",
    "    index+=1"
   ]
  },
  {
   "cell_type": "code",
   "execution_count": null,
   "metadata": {
    "colab": {
     "base_uri": "https://localhost:8080/"
    },
    "id": "2tMC_vx7WihS",
    "outputId": "a5f7ce7b-90b2-4ce6-c880-3a57628f9c94"
   },
   "outputs": [
    {
     "data": {
      "text/plain": [
       "2054"
      ]
     },
     "execution_count": 39,
     "metadata": {},
     "output_type": "execute_result"
    }
   ],
   "source": [
    "len(os.listdir('/content/drive/MyDrive/CS640 Project/Processed Frames'))"
   ]
  },
  {
   "cell_type": "markdown",
   "metadata": {
    "id": "XffuQz5sWxK-"
   },
   "source": [
    "### Delete All files in Processed Frames Directory"
   ]
  },
  {
   "cell_type": "code",
   "execution_count": null,
   "metadata": {
    "colab": {
     "base_uri": "https://localhost:8080/"
    },
    "id": "LO_VHQ01WvvC",
    "outputId": "755d885e-61be-4dd6-bb8b-60554b0a9aac"
   },
   "outputs": [
    {
     "name": "stdout",
     "output_type": "stream",
     "text": [
      "/content/drive/MyDrive/CS640 Project/Processed Frames\n"
     ]
    }
   ],
   "source": [
    "%cd /content/drive/MyDrive/CS640 Project/Processed Frames"
   ]
  },
  {
   "cell_type": "code",
   "execution_count": null,
   "metadata": {
    "id": "lE2okMzYV_J5"
   },
   "outputs": [],
   "source": [
    "!rm -fr * .*"
   ]
  }
 ],
 "metadata": {
  "colab": {
   "collapsed_sections": [],
   "provenance": []
  },
  "kernelspec": {
   "display_name": "Python 3 (ipykernel)",
   "language": "python",
   "name": "python3"
  },
  "language_info": {
   "codemirror_mode": {
    "name": "ipython",
    "version": 3
   },
   "file_extension": ".py",
   "mimetype": "text/x-python",
   "name": "python",
   "nbconvert_exporter": "python",
   "pygments_lexer": "ipython3",
   "version": "3.10.6"
  }
 },
 "nbformat": 4,
 "nbformat_minor": 1
}
