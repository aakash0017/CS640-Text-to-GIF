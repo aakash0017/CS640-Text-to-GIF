{
 "cells": [
  {
   "cell_type": "code",
   "execution_count": 1,
   "id": "fde99062",
   "metadata": {},
   "outputs": [],
   "source": [
    "import praw"
   ]
  },
  {
   "cell_type": "code",
   "execution_count": 2,
   "id": "9d887ba0",
   "metadata": {},
   "outputs": [],
   "source": [
    "scraper = reddit = praw.Reddit(client_id='j110eXNLeHcJ9Qj4Gi1jIg', client_secret='N3urHP0NMcUVO6LsfmNb1TTgnBO9_w',\n",
    "                               user_agent='ai-proj-api-v1.0')"
   ]
  },
  {
   "cell_type": "code",
   "execution_count": 3,
   "id": "591f8bb8",
   "metadata": {},
   "outputs": [
    {
     "name": "stdout",
     "output_type": "stream",
     "text": [
      "Caroline Ingalls is a ZOMBIE!! -- New subreddit: r/LittleHouseReviewed\n",
      "Butt gut\n",
      "Pure mischief\n",
      "Funny gif\n",
      "Alien programmers watching us give a Nobel Prize in physics for proving the universe is not \"locally real\"\n",
      "Fallguy\n",
      "Cat on flight with geese\n",
      "They said he got an interview at KFC today 👀🤣\n",
      "Roger dance\n",
      "Don't turn around\n"
     ]
    }
   ],
   "source": [
    "hot_posts = reddit.subreddit('funnygifs').hot(limit=10)\n",
    "for post in hot_posts:\n",
    "    print(post.title)"
   ]
  },
  {
   "cell_type": "code",
   "execution_count": 94,
   "id": "ba098516",
   "metadata": {},
   "outputs": [],
   "source": [
    "from urllib.request import urlopen\n",
    "#from bs4 import BeautifulSoup\n",
    "import time\n",
    "\n",
    "already_done = []\n",
    "subreddit = reddit.subreddit('funnygifs')\n",
    "count = 0\n",
    "for submission in subreddit.hot(limit = 1000):\n",
    "    #count+=1\n",
    "    #print(count)\n",
    "    if submission.id not in already_done:\n",
    "        #print(submission.url)\n",
    "        #print(submission.title)\n",
    "        try:\n",
    "            url = submission.url\n",
    "            b = str(url)\n",
    "            char = b.split('.')[0][-1]\n",
    "            if char == 'i':\n",
    "                #print(url)\n",
    "                contents = urlopen(url).read()\n",
    "            if char == 'v':\n",
    "                #contents = urlopen(url).read() #.url\n",
    "                #print(url)\n",
    "                #contents = urlopen(url).read()\n",
    "                continue\n",
    "        #print(url)\n",
    "        #print(url)\n",
    "        #contents = urlopen(url).read()\n",
    "        #a = contents\n",
    "        #if i == 3:\n",
    "        #    print(contents)\n",
    "        #try:\n",
    "            #a = contents.decode(\"utf-8\").split(\" \")\n",
    "            #if a[4] == '<!DOCTYPE':\n",
    "                #print(\"Found One!!\")\n",
    "                #a = urlopen(contents).read()\n",
    "                #print(contents)\n",
    "                #if \"/\" in submission.title:\n",
    "                #    submission.title = \"\".join(submission.title.split(\"/\"))\n",
    "                #with open(\"Data/\" + submission.title, \"wb\") as f: # + url.split(\".\")[-1], \"wb\") as f:\n",
    "                    #print(\"ABC\")\n",
    "                #    f.write(contents)\n",
    "                #already_done.append(submission.id)\n",
    "        #except:\n",
    "            if \"/\" in submission.title:\n",
    "                submission.title = \"\".join(submission.title.split(\"/\"))\n",
    "            with open(\"Data/\" + submission.title, \"wb\") as f: # + url.split(\".\")[-1], \"wb\") as f:\n",
    "                #print(\"ABC\")\n",
    "                f.write(contents)\n",
    "            already_done.append(submission.id)\n",
    "        except:\n",
    "            continue\n",
    "            \n",
    "        #if a[4] == '<!DOCTYPE':\n",
    "        #    continue\n",
    "        #print(bool(BeautifulSoup(contents, \"html.parser\").find()))\n",
    "        #if bool(BeautifulSoup(contents, \"html.parser\").find()):\n",
    "        #    print(\"ABC\")\n",
    "        #    continue\n",
    "        #submission.title = \"AB/CD\"\n",
    "# time.sleep(1800)"
   ]
  },
  {
   "cell_type": "code",
   "execution_count": 41,
   "id": "ca087602",
   "metadata": {},
   "outputs": [],
   "source": [
    "from urllib.request import urlopen\n",
    "#from bs4 import BeautifulSoup\n",
    "import time\n",
    "\n",
    "already_done = []\n",
    "subreddit = reddit.subreddit('funnygifs')\n",
    "i = 0\n",
    "for submission in subreddit.hot(limit = 20):\n",
    "    i+=1\n",
    "    if submission.id not in already_done:\n",
    "        #print(submission.title)\n",
    "        url = submission.url\n",
    "        #print(url)\n",
    "        contents = urlopen(url).read()\n",
    "        #a = contents\n",
    "        #if i == 3:\n",
    "        #    print(contents)\n",
    "        if \"/\" in submission.title:\n",
    "            submission.title = \"\".join(submission.title.split(\"/\"))\n",
    "        with open(\"Data/\" + submission.title, \"wb\") as f: # + url.split(\".\")[-1], \"wb\") as f:\n",
    "            #print(\"ABC\")\n",
    "            f.write(contents)\n",
    "        already_done.append(submission.id)\n",
    "            \n",
    "        #if a[4] == '<!DOCTYPE':\n",
    "        #    continue\n",
    "        #print(bool(BeautifulSoup(contents, \"html.parser\").find()))\n",
    "        #if bool(BeautifulSoup(contents, \"html.parser\").find()):\n",
    "        #    print(\"ABC\")\n",
    "        #    continue\n",
    "        #submission.title = \"AB/CD\"\n",
    "# time.sleep(1800)"
   ]
  },
  {
   "cell_type": "code",
   "execution_count": null,
   "id": "4aa69646",
   "metadata": {},
   "outputs": [],
   "source": []
  }
 ],
 "metadata": {
  "kernelspec": {
   "display_name": "Python 3 (ipykernel)",
   "language": "python",
   "name": "python3"
  },
  "language_info": {
   "codemirror_mode": {
    "name": "ipython",
    "version": 3
   },
   "file_extension": ".py",
   "mimetype": "text/x-python",
   "name": "python",
   "nbconvert_exporter": "python",
   "pygments_lexer": "ipython3",
   "version": "3.9.12"
  }
 },
 "nbformat": 4,
 "nbformat_minor": 5
}
